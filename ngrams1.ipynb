{
 "cells": [
  {
   "cell_type": "code",
   "execution_count": 9,
   "metadata": {},
   "outputs": [],
   "source": [
    "import sys\n",
    "\n",
    "from collections import Counter"
   ]
  },
  {
   "cell_type": "code",
   "execution_count": 67,
   "metadata": {},
   "outputs": [],
   "source": [
    "def unigrams(text_file):\n",
    "    file1 = open(text_file,\"r\")\n",
    "    str = file1.read()\n",
    "    str = str.lower()\n",
    "    print(str)\n",
    "    words=str.split()\n",
    "    print(words)\n",
    "    \n",
    " ##frequency table of unigrams in dictionary\n",
    "    unique_unigrams = Counter(words)\n",
    "    a = unique_unigrams.keys()\n",
    "    b = unique_unigrams.values()\n",
    "    total_vocab = len(b)\n",
    "    print(total_vocab)\n",
    "    unique_unigrams_probability= {}\n",
    "    for i in unique_unigrams.keys():\n",
    "        unique_unigrams_probability[i] = unique_unigrams[i]/total_vocab\n",
    "#    unique_unigrams_probability = b/sum(unique_unigrams.values())\n",
    "    print(unique_unigrams_probability)\n"
   ]
  },
  {
   "cell_type": "code",
   "execution_count": 6,
   "metadata": {},
   "outputs": [
    {
     "ename": "IndentationError",
     "evalue": "unexpected indent (<ipython-input-6-4efc7f4ff54b>, line 2)",
     "output_type": "error",
     "traceback": [
      "\u001b[0;36m  File \u001b[0;32m\"<ipython-input-6-4efc7f4ff54b>\"\u001b[0;36m, line \u001b[0;32m2\u001b[0m\n\u001b[0;31m    print(len(words))\u001b[0m\n\u001b[0m    ^\u001b[0m\n\u001b[0;31mIndentationError\u001b[0m\u001b[0;31m:\u001b[0m unexpected indent\n"
     ]
    }
   ],
   "source": [
    " words = str.split()\n",
    "    print(len(words))\n",
    "    unique_unigrams = Counter(words).keys()\n",
    "    unique_unigrams_count = Counter(words).values() # counts the elements' frequency\n",
    "    print(len(Counter(words).values())) #no of unique words\n",
    "    print(unique_unigrams)\n",
    "    print(unique_unigrams_count)"
   ]
  },
  {
   "cell_type": "code",
   "execution_count": 101,
   "metadata": {},
   "outputs": [],
   "source": [
    "def main():\n",
    "    bigrams('test1.txt')\n",
    "    #print(\"cmd line arg:\",'train1.txt',\"\\n\",'test1.txt')\n"
   ]
  },
  {
   "cell_type": "code",
   "execution_count": 102,
   "metadata": {},
   "outputs": [
    {
     "name": "stdout",
     "output_type": "stream",
     "text": [
      "# a\n",
      "b c\n",
      "a b c d\n"
     ]
    }
   ],
   "source": [
    "main()"
   ]
  },
  {
   "cell_type": "code",
   "execution_count": 100,
   "metadata": {},
   "outputs": [],
   "source": [
    "def bigrams(text_file):\n",
    "    file1 = open(text_file,\"r\")\n",
    "    str = file1.read()\n",
    "    str = str.lower()\n",
    "    str = \"# \"+str\n",
    "    print(str)\n",
    "   # words=str.split()\n",
    "   # print(words)\n",
    "    "
   ]
  },
  {
   "cell_type": "code",
   "execution_count": null,
   "metadata": {},
   "outputs": [],
   "source": []
  }
 ],
 "metadata": {
  "kernelspec": {
   "display_name": "Python 3",
   "language": "python",
   "name": "python3"
  },
  "language_info": {
   "codemirror_mode": {
    "name": "ipython",
    "version": 3
   },
   "file_extension": ".py",
   "mimetype": "text/x-python",
   "name": "python",
   "nbconvert_exporter": "python",
   "pygments_lexer": "ipython3",
   "version": "3.7.3"
  }
 },
 "nbformat": 4,
 "nbformat_minor": 2
}
